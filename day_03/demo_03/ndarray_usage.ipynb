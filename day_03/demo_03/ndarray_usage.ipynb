{
 "cells": [
  {
   "cell_type": "code",
   "execution_count": 2,
   "id": "301bfcf9",
   "metadata": {
    "ExecuteTime": {
     "end_time": "2023-09-12T12:22:18.926269Z",
     "start_time": "2023-09-12T12:22:18.810646Z"
    }
   },
   "outputs": [],
   "source": [
    "import numpy as np"
   ]
  },
  {
   "cell_type": "markdown",
   "id": "fc45bbc9",
   "metadata": {},
   "source": [
    "# 逻辑运算"
   ]
  },
  {
   "cell_type": "code",
   "execution_count": 5,
   "id": "d730a767",
   "metadata": {
    "ExecuteTime": {
     "end_time": "2023-09-10T08:42:11.822118Z",
     "start_time": "2023-09-10T08:42:11.808247Z"
    }
   },
   "outputs": [
    {
     "data": {
      "text/plain": [
       "array([[88, 49, 45, 44, 89],\n",
       "       [48, 91, 46, 92, 94],\n",
       "       [77, 49, 50, 41, 94],\n",
       "       [88, 76, 68, 92, 99],\n",
       "       [76, 77, 88, 90, 51],\n",
       "       [67, 61, 91, 78, 87],\n",
       "       [73, 49, 42, 75, 47],\n",
       "       [98, 95, 48, 97, 56],\n",
       "       [42, 71, 82, 72, 80],\n",
       "       [88, 43, 69, 95, 81]])"
      ]
     },
     "execution_count": 5,
     "metadata": {},
     "output_type": "execute_result"
    }
   ],
   "source": [
    "score = np.random.randint(40,100,(10,5))\n",
    "score"
   ]
  },
  {
   "cell_type": "code",
   "execution_count": 6,
   "id": "28cfedee",
   "metadata": {
    "ExecuteTime": {
     "end_time": "2023-09-10T08:42:54.334705Z",
     "start_time": "2023-09-10T08:42:54.332162Z"
    }
   },
   "outputs": [],
   "source": [
    "test_score = score[6:, 0:5] # 后四组数据的前五个数据"
   ]
  },
  {
   "cell_type": "code",
   "execution_count": 8,
   "id": "dd0f5088",
   "metadata": {
    "ExecuteTime": {
     "end_time": "2023-09-10T08:43:08.655866Z",
     "start_time": "2023-09-10T08:43:08.633155Z"
    }
   },
   "outputs": [
    {
     "data": {
      "text/plain": [
       "array([[73, 49, 42, 75, 47],\n",
       "       [98, 95, 48, 97, 56],\n",
       "       [42, 71, 82, 72, 80],\n",
       "       [88, 43, 69, 95, 81]])"
      ]
     },
     "execution_count": 8,
     "metadata": {},
     "output_type": "execute_result"
    }
   ],
   "source": [
    "test_score"
   ]
  },
  {
   "cell_type": "code",
   "execution_count": 9,
   "id": "f620dbaf",
   "metadata": {
    "ExecuteTime": {
     "end_time": "2023-09-10T08:43:29.548808Z",
     "start_time": "2023-09-10T08:43:29.543193Z"
    }
   },
   "outputs": [
    {
     "data": {
      "text/plain": [
       "array([[ True, False, False,  True, False],\n",
       "       [ True,  True, False,  True, False],\n",
       "       [False,  True,  True,  True,  True],\n",
       "       [ True, False,  True,  True,  True]])"
      ]
     },
     "execution_count": 9,
     "metadata": {},
     "output_type": "execute_result"
    }
   ],
   "source": [
    "test_score > 60"
   ]
  },
  {
   "cell_type": "code",
   "execution_count": 10,
   "id": "42a265a3",
   "metadata": {
    "ExecuteTime": {
     "end_time": "2023-09-10T08:43:58.408415Z",
     "start_time": "2023-09-10T08:43:58.392619Z"
    }
   },
   "outputs": [],
   "source": [
    "test_score[test_score > 60] = 1"
   ]
  },
  {
   "cell_type": "code",
   "execution_count": 11,
   "id": "feb598f8",
   "metadata": {
    "ExecuteTime": {
     "end_time": "2023-09-10T08:44:04.357385Z",
     "start_time": "2023-09-10T08:44:04.354467Z"
    }
   },
   "outputs": [
    {
     "data": {
      "text/plain": [
       "array([[ 1, 49, 42,  1, 47],\n",
       "       [ 1,  1, 48,  1, 56],\n",
       "       [42,  1,  1,  1,  1],\n",
       "       [ 1, 43,  1,  1,  1]])"
      ]
     },
     "execution_count": 11,
     "metadata": {},
     "output_type": "execute_result"
    }
   ],
   "source": [
    "test_score"
   ]
  },
  {
   "cell_type": "markdown",
   "id": "5e7453dd",
   "metadata": {},
   "source": [
    "# 通用判断函数"
   ]
  },
  {
   "cell_type": "code",
   "execution_count": 12,
   "id": "f09f4285",
   "metadata": {
    "ExecuteTime": {
     "end_time": "2023-09-10T08:47:18.026047Z",
     "start_time": "2023-09-10T08:47:18.004790Z"
    }
   },
   "outputs": [
    {
     "data": {
      "text/plain": [
       "False"
      ]
     },
     "execution_count": 12,
     "metadata": {},
     "output_type": "execute_result"
    }
   ],
   "source": [
    "np.all(score[0:2, :] > 60) # 前两行的所有元素是不是全大于 60 ，是则 true 否则 false"
   ]
  },
  {
   "cell_type": "code",
   "execution_count": 14,
   "id": "c5c44924",
   "metadata": {
    "ExecuteTime": {
     "end_time": "2023-09-10T08:48:36.997143Z",
     "start_time": "2023-09-10T08:48:36.992665Z"
    }
   },
   "outputs": [
    {
     "data": {
      "text/plain": [
       "array([[88, 49, 45, 44, 89],\n",
       "       [48, 91, 46, 92, 94],\n",
       "       [77, 49, 50, 41, 94],\n",
       "       [88, 76, 68, 92, 99],\n",
       "       [76, 77, 88, 90, 51],\n",
       "       [67, 61, 91, 78, 87],\n",
       "       [ 1, 49, 42,  1, 47],\n",
       "       [ 1,  1, 48,  1, 56],\n",
       "       [42,  1,  1,  1,  1],\n",
       "       [ 1, 43,  1,  1,  1]])"
      ]
     },
     "execution_count": 14,
     "metadata": {},
     "output_type": "execute_result"
    }
   ],
   "source": [
    "score"
   ]
  },
  {
   "cell_type": "code",
   "execution_count": 15,
   "id": "4283b4be",
   "metadata": {
    "ExecuteTime": {
     "end_time": "2023-09-10T08:49:35.096527Z",
     "start_time": "2023-09-10T08:49:35.090184Z"
    }
   },
   "outputs": [
    {
     "data": {
      "text/plain": [
       "True"
      ]
     },
     "execution_count": 15,
     "metadata": {},
     "output_type": "execute_result"
    }
   ],
   "source": [
    "np.any(score[0:2, :] > 90) # 前两行的所有元素 是否存在小于 90的元素 ，是则 true 否则 false"
   ]
  },
  {
   "cell_type": "markdown",
   "id": "6547deef",
   "metadata": {},
   "source": [
    "# np.where（三元运算符）"
   ]
  },
  {
   "cell_type": "code",
   "execution_count": 17,
   "id": "7ee6ef9f",
   "metadata": {
    "ExecuteTime": {
     "end_time": "2023-09-10T08:59:50.876206Z",
     "start_time": "2023-09-10T08:59:50.870141Z"
    }
   },
   "outputs": [],
   "source": [
    "tmp = score[:4,:4] # 前4行 前4列的元素"
   ]
  },
  {
   "cell_type": "code",
   "execution_count": 18,
   "id": "d781f1a9",
   "metadata": {
    "ExecuteTime": {
     "end_time": "2023-09-10T09:00:05.288649Z",
     "start_time": "2023-09-10T09:00:05.278214Z"
    }
   },
   "outputs": [
    {
     "data": {
      "text/plain": [
       "array([[88, 49, 45, 44],\n",
       "       [48, 91, 46, 92],\n",
       "       [77, 49, 50, 41],\n",
       "       [88, 76, 68, 92]])"
      ]
     },
     "execution_count": 18,
     "metadata": {},
     "output_type": "execute_result"
    }
   ],
   "source": [
    "tmp"
   ]
  },
  {
   "cell_type": "code",
   "execution_count": 19,
   "id": "61e7c080",
   "metadata": {
    "ExecuteTime": {
     "end_time": "2023-09-10T09:02:00.671399Z",
     "start_time": "2023-09-10T09:02:00.656637Z"
    }
   },
   "outputs": [
    {
     "data": {
      "text/plain": [
       "array([[1, 0, 0, 0],\n",
       "       [0, 1, 0, 1],\n",
       "       [1, 0, 0, 0],\n",
       "       [1, 1, 1, 1]])"
      ]
     },
     "execution_count": 19,
     "metadata": {},
     "output_type": "execute_result"
    }
   ],
   "source": [
    "np.where(tmp > 60, 1, 0) # 在tmp中找到大于 60 的元素 ，将其置为1，否则置为0"
   ]
  },
  {
   "cell_type": "code",
   "execution_count": 20,
   "id": "190b136f",
   "metadata": {
    "ExecuteTime": {
     "end_time": "2023-09-10T09:03:22.117480Z",
     "start_time": "2023-09-10T09:03:22.108327Z"
    }
   },
   "outputs": [
    {
     "data": {
      "text/plain": [
       "array([[1, 0, 0, 0],\n",
       "       [0, 0, 0, 0],\n",
       "       [1, 0, 0, 0],\n",
       "       [1, 1, 1, 0]])"
      ]
     },
     "execution_count": 20,
     "metadata": {},
     "output_type": "execute_result"
    }
   ],
   "source": [
    "np.where(np.logical_and(tmp > 60, tmp < 90), 1, 0) # 在tmp中找到大于 60 且小于 90 的元素 ，将其置为1，否则置为0"
   ]
  },
  {
   "cell_type": "code",
   "execution_count": 21,
   "id": "5fc907ae",
   "metadata": {
    "ExecuteTime": {
     "end_time": "2023-09-10T09:03:59.091422Z",
     "start_time": "2023-09-10T09:03:59.085694Z"
    }
   },
   "outputs": [
    {
     "data": {
      "text/plain": [
       "array([[0, 1, 1, 1],\n",
       "       [1, 1, 1, 1],\n",
       "       [0, 1, 1, 1],\n",
       "       [0, 0, 0, 1]])"
      ]
     },
     "execution_count": 21,
     "metadata": {},
     "output_type": "execute_result"
    }
   ],
   "source": [
    "np.where(np.logical_or(tmp < 60, tmp > 90), 1, 0) # 在tmp中找到小于于 60 或者大于 90 的元素 ，将其置为1，否则置为0"
   ]
  },
  {
   "cell_type": "markdown",
   "id": "2c07f768",
   "metadata": {},
   "source": [
    "# 统计运算"
   ]
  },
  {
   "cell_type": "code",
   "execution_count": 22,
   "id": "6bbade9c",
   "metadata": {
    "ExecuteTime": {
     "end_time": "2023-09-10T09:04:28.502641Z",
     "start_time": "2023-09-10T09:04:28.496204Z"
    }
   },
   "outputs": [],
   "source": [
    "temp = score[:4, :]"
   ]
  },
  {
   "cell_type": "code",
   "execution_count": 23,
   "id": "2420bbed",
   "metadata": {
    "ExecuteTime": {
     "end_time": "2023-09-10T09:04:37.889252Z",
     "start_time": "2023-09-10T09:04:37.881476Z"
    }
   },
   "outputs": [
    {
     "data": {
      "text/plain": [
       "array([[88, 49, 45, 44, 89],\n",
       "       [48, 91, 46, 92, 94],\n",
       "       [77, 49, 50, 41, 94],\n",
       "       [88, 76, 68, 92, 99]])"
      ]
     },
     "execution_count": 23,
     "metadata": {},
     "output_type": "execute_result"
    }
   ],
   "source": [
    "temp"
   ]
  },
  {
   "cell_type": "code",
   "execution_count": 24,
   "id": "2044e1c7",
   "metadata": {
    "ExecuteTime": {
     "end_time": "2023-09-10T09:05:05.702805Z",
     "start_time": "2023-09-10T09:05:05.697844Z"
    }
   },
   "outputs": [
    {
     "data": {
      "text/plain": [
       "99"
      ]
     },
     "execution_count": 24,
     "metadata": {},
     "output_type": "execute_result"
    }
   ],
   "source": [
    "np.max(temp) # 返回最大值"
   ]
  },
  {
   "cell_type": "code",
   "execution_count": 26,
   "id": "11fbb1d7",
   "metadata": {
    "ExecuteTime": {
     "end_time": "2023-09-10T09:05:39.360139Z",
     "start_time": "2023-09-10T09:05:39.354935Z"
    }
   },
   "outputs": [
    {
     "data": {
      "text/plain": [
       "71.0"
      ]
     },
     "execution_count": 26,
     "metadata": {},
     "output_type": "execute_result"
    }
   ],
   "source": [
    "np.mean(temp)"
   ]
  },
  {
   "cell_type": "code",
   "execution_count": 27,
   "id": "d3b20ba9",
   "metadata": {
    "ExecuteTime": {
     "end_time": "2023-09-10T09:06:25.914868Z",
     "start_time": "2023-09-10T09:06:25.905705Z"
    }
   },
   "outputs": [
    {
     "data": {
      "text/plain": [
       "array([88, 91, 68, 92, 99])"
      ]
     },
     "execution_count": 27,
     "metadata": {},
     "output_type": "execute_result"
    }
   ],
   "source": [
    "np.max(temp, axis=0)  # 每一列的最大值"
   ]
  },
  {
   "cell_type": "code",
   "execution_count": 28,
   "id": "529e1909",
   "metadata": {
    "ExecuteTime": {
     "end_time": "2023-09-10T09:07:04.960306Z",
     "start_time": "2023-09-10T09:07:04.950215Z"
    }
   },
   "outputs": [
    {
     "data": {
      "text/plain": [
       "array([89, 94, 94, 99])"
      ]
     },
     "execution_count": 28,
     "metadata": {},
     "output_type": "execute_result"
    }
   ],
   "source": [
    "np.max(temp, axis=1)  # 每一行的最大值"
   ]
  },
  {
   "cell_type": "code",
   "execution_count": 29,
   "id": "0d8906ce",
   "metadata": {
    "ExecuteTime": {
     "end_time": "2023-09-10T09:07:35.012136Z",
     "start_time": "2023-09-10T09:07:34.999505Z"
    }
   },
   "outputs": [
    {
     "data": {
      "text/plain": [
       "19"
      ]
     },
     "execution_count": 29,
     "metadata": {},
     "output_type": "execute_result"
    }
   ],
   "source": [
    "np.argmax(temp) # 返回最大值的下标"
   ]
  },
  {
   "cell_type": "code",
   "execution_count": 31,
   "id": "cae0330d",
   "metadata": {
    "ExecuteTime": {
     "end_time": "2023-09-10T09:08:55.853042Z",
     "start_time": "2023-09-10T09:08:55.846143Z"
    }
   },
   "outputs": [
    {
     "data": {
      "text/plain": [
       "array([0, 1, 3, 1, 3])"
      ]
     },
     "execution_count": 31,
     "metadata": {},
     "output_type": "execute_result"
    }
   ],
   "source": [
    "np.argmax(temp, axis=0)  # 返回每一列最大值的下标"
   ]
  },
  {
   "cell_type": "code",
   "execution_count": 33,
   "id": "51e85acb",
   "metadata": {
    "ExecuteTime": {
     "end_time": "2023-09-10T09:09:43.770435Z",
     "start_time": "2023-09-10T09:09:43.760216Z"
    }
   },
   "outputs": [
    {
     "data": {
      "text/plain": [
       "array([3, 2, 3, 2])"
      ]
     },
     "execution_count": 33,
     "metadata": {},
     "output_type": "execute_result"
    }
   ],
   "source": [
    "np.argmin(temp, axis=1) # 返回每一行最小值的下标"
   ]
  },
  {
   "cell_type": "markdown",
   "id": "99856ea1",
   "metadata": {},
   "source": [
    "# 数组间的运算"
   ]
  },
  {
   "cell_type": "code",
   "execution_count": 3,
   "id": "a4349653",
   "metadata": {
    "ExecuteTime": {
     "end_time": "2023-09-12T12:22:23.154947Z",
     "start_time": "2023-09-12T12:22:23.150371Z"
    }
   },
   "outputs": [],
   "source": [
    "a = np.array([[1,2,3],[3,4,5]])"
   ]
  },
  {
   "cell_type": "code",
   "execution_count": 4,
   "id": "a7c2a7a7",
   "metadata": {
    "ExecuteTime": {
     "end_time": "2023-09-12T12:22:30.792227Z",
     "start_time": "2023-09-12T12:22:30.758599Z"
    }
   },
   "outputs": [
    {
     "data": {
      "text/plain": [
       "array([[1, 2, 3],\n",
       "       [3, 4, 5]])"
      ]
     },
     "execution_count": 4,
     "metadata": {},
     "output_type": "execute_result"
    }
   ],
   "source": [
    "a"
   ]
  },
  {
   "cell_type": "code",
   "execution_count": 5,
   "id": "c1656117",
   "metadata": {
    "ExecuteTime": {
     "end_time": "2023-09-12T12:22:48.757807Z",
     "start_time": "2023-09-12T12:22:48.741340Z"
    }
   },
   "outputs": [
    {
     "data": {
      "text/plain": [
       "array([[3, 4, 5],\n",
       "       [5, 6, 7]])"
      ]
     },
     "execution_count": 5,
     "metadata": {},
     "output_type": "execute_result"
    }
   ],
   "source": [
    "a+2"
   ]
  },
  {
   "cell_type": "code",
   "execution_count": 6,
   "id": "4a6b0a33",
   "metadata": {
    "ExecuteTime": {
     "end_time": "2023-09-12T12:22:54.904263Z",
     "start_time": "2023-09-12T12:22:54.887878Z"
    }
   },
   "outputs": [
    {
     "data": {
      "text/plain": [
       "array([[0, 1, 2],\n",
       "       [2, 3, 4]])"
      ]
     },
     "execution_count": 6,
     "metadata": {},
     "output_type": "execute_result"
    }
   ],
   "source": [
    "a-1"
   ]
  },
  {
   "cell_type": "code",
   "execution_count": 7,
   "id": "ef05913d",
   "metadata": {
    "ExecuteTime": {
     "end_time": "2023-09-12T12:23:01.769130Z",
     "start_time": "2023-09-12T12:23:01.753377Z"
    }
   },
   "outputs": [
    {
     "data": {
      "text/plain": [
       "array([[0.5, 1. , 1.5],\n",
       "       [1.5, 2. , 2.5]])"
      ]
     },
     "execution_count": 7,
     "metadata": {},
     "output_type": "execute_result"
    }
   ],
   "source": [
    "a/2"
   ]
  },
  {
   "cell_type": "code",
   "execution_count": 8,
   "id": "18b0d94e",
   "metadata": {
    "ExecuteTime": {
     "end_time": "2023-09-12T12:23:08.154490Z",
     "start_time": "2023-09-12T12:23:08.127560Z"
    }
   },
   "outputs": [
    {
     "data": {
      "text/plain": [
       "array([[ 3,  6,  9],\n",
       "       [ 9, 12, 15]])"
      ]
     },
     "execution_count": 8,
     "metadata": {},
     "output_type": "execute_result"
    }
   ],
   "source": [
    "a*3"
   ]
  },
  {
   "cell_type": "code",
   "execution_count": 9,
   "id": "b955384d",
   "metadata": {
    "ExecuteTime": {
     "end_time": "2023-09-12T12:23:32.318783Z",
     "start_time": "2023-09-12T12:23:32.307859Z"
    }
   },
   "outputs": [
    {
     "data": {
      "text/plain": [
       "[1, 2, 3, 1, 2, 3, 1, 2, 3]"
      ]
     },
     "execution_count": 9,
     "metadata": {},
     "output_type": "execute_result"
    }
   ],
   "source": [
    "a = [1,2,3]\n",
    "a * 3"
   ]
  },
  {
   "cell_type": "code",
   "execution_count": 10,
   "id": "9ddc7eb6",
   "metadata": {
    "ExecuteTime": {
     "end_time": "2023-09-12T12:25:00.559099Z",
     "start_time": "2023-09-12T12:25:00.554159Z"
    }
   },
   "outputs": [],
   "source": [
    "arr1 = np.array([[1, 2, 3, 2, 1, 4], [5, 6, 1, 2, 3, 1]])\n",
    "arr2 = np.array([[1, 2, 3, 4], [3, 4, 5, 6]])"
   ]
  },
  {
   "cell_type": "code",
   "execution_count": 12,
   "id": "1b639eb8",
   "metadata": {
    "ExecuteTime": {
     "end_time": "2023-09-12T12:25:27.754258Z",
     "start_time": "2023-09-12T12:25:27.751057Z"
    }
   },
   "outputs": [],
   "source": [
    "# arr1 + arr2 \n",
    "# operands could not be broadcast together with shapes (2,6) (2,4) "
   ]
  },
  {
   "cell_type": "code",
   "execution_count": 14,
   "id": "01dc0a6a",
   "metadata": {
    "ExecuteTime": {
     "end_time": "2023-09-12T12:25:47.187259Z",
     "start_time": "2023-09-12T12:25:47.179565Z"
    }
   },
   "outputs": [],
   "source": [
    "arr1 = np.array([[1, 2, 3, 2, 1, 4], [5, 6, 1, 2, 3, 1]])\n",
    "arr2 = np.array([[1], [3]])"
   ]
  },
  {
   "cell_type": "code",
   "execution_count": 15,
   "id": "918157c6",
   "metadata": {
    "ExecuteTime": {
     "end_time": "2023-09-12T12:25:57.146551Z",
     "start_time": "2023-09-12T12:25:57.135221Z"
    }
   },
   "outputs": [
    {
     "data": {
      "text/plain": [
       "(2, 6)"
      ]
     },
     "execution_count": 15,
     "metadata": {},
     "output_type": "execute_result"
    }
   ],
   "source": [
    "arr1.shape"
   ]
  },
  {
   "cell_type": "code",
   "execution_count": 16,
   "id": "3328f4cd",
   "metadata": {
    "ExecuteTime": {
     "end_time": "2023-09-12T12:26:04.187483Z",
     "start_time": "2023-09-12T12:26:04.177433Z"
    }
   },
   "outputs": [
    {
     "data": {
      "text/plain": [
       "(2, 1)"
      ]
     },
     "execution_count": 16,
     "metadata": {},
     "output_type": "execute_result"
    }
   ],
   "source": [
    "arr2.shape"
   ]
  },
  {
   "cell_type": "code",
   "execution_count": 17,
   "id": "52ef3b38",
   "metadata": {
    "ExecuteTime": {
     "end_time": "2023-09-12T12:27:27.684831Z",
     "start_time": "2023-09-12T12:27:27.680336Z"
    }
   },
   "outputs": [],
   "source": [
    "# 1.维度相等 2.(.shape对应的维度为1，也可以)"
   ]
  },
  {
   "cell_type": "code",
   "execution_count": 18,
   "id": "5f7310d4",
   "metadata": {
    "ExecuteTime": {
     "end_time": "2023-09-12T12:28:19.650658Z",
     "start_time": "2023-09-12T12:28:19.634904Z"
    }
   },
   "outputs": [
    {
     "data": {
      "text/plain": [
       "array([[2, 3, 4, 3, 2, 5],\n",
       "       [8, 9, 4, 5, 6, 4]])"
      ]
     },
     "execution_count": 18,
     "metadata": {},
     "output_type": "execute_result"
    }
   ],
   "source": [
    "arr1 + arr2"
   ]
  },
  {
   "cell_type": "markdown",
   "id": "4d097c84",
   "metadata": {},
   "source": [
    "# 矩阵运算"
   ]
  },
  {
   "cell_type": "code",
   "execution_count": 19,
   "id": "5de22c1c",
   "metadata": {
    "ExecuteTime": {
     "end_time": "2023-09-12T12:39:43.283089Z",
     "start_time": "2023-09-12T12:39:43.280007Z"
    }
   },
   "outputs": [],
   "source": [
    "a = np.array([[80, 86],\n",
    "[82, 80],\n",
    "[85, 78],\n",
    "[90, 90],\n",
    "[86, 82],\n",
    "[82, 90],\n",
    "[78, 80],\n",
    "[92, 94]])"
   ]
  },
  {
   "cell_type": "code",
   "execution_count": 20,
   "id": "fdfdb143",
   "metadata": {
    "ExecuteTime": {
     "end_time": "2023-09-12T12:40:01.822081Z",
     "start_time": "2023-09-12T12:40:01.812209Z"
    }
   },
   "outputs": [
    {
     "data": {
      "text/plain": [
       "array([[80, 86],\n",
       "       [82, 80],\n",
       "       [85, 78],\n",
       "       [90, 90],\n",
       "       [86, 82],\n",
       "       [82, 90],\n",
       "       [78, 80],\n",
       "       [92, 94]])"
      ]
     },
     "execution_count": 20,
     "metadata": {},
     "output_type": "execute_result"
    }
   ],
   "source": [
    "a"
   ]
  },
  {
   "cell_type": "code",
   "execution_count": 22,
   "id": "b357782e",
   "metadata": {
    "ExecuteTime": {
     "end_time": "2023-09-12T12:40:20.369393Z",
     "start_time": "2023-09-12T12:40:20.364320Z"
    }
   },
   "outputs": [],
   "source": [
    "b = np.array([[0.7], [0.3]])"
   ]
  },
  {
   "cell_type": "code",
   "execution_count": 23,
   "id": "1aba919a",
   "metadata": {
    "ExecuteTime": {
     "end_time": "2023-09-12T12:40:41.417047Z",
     "start_time": "2023-09-12T12:40:41.407558Z"
    }
   },
   "outputs": [
    {
     "data": {
      "text/plain": [
       "array([[81.8],\n",
       "       [81.4],\n",
       "       [82.9],\n",
       "       [90. ],\n",
       "       [84.8],\n",
       "       [84.4],\n",
       "       [78.6],\n",
       "       [92.6]])"
      ]
     },
     "execution_count": 23,
     "metadata": {},
     "output_type": "execute_result"
    }
   ],
   "source": [
    "np.dot(a, b)"
   ]
  },
  {
   "cell_type": "code",
   "execution_count": 24,
   "id": "f911a085",
   "metadata": {
    "ExecuteTime": {
     "end_time": "2023-09-12T12:40:53.984901Z",
     "start_time": "2023-09-12T12:40:53.976769Z"
    }
   },
   "outputs": [
    {
     "data": {
      "text/plain": [
       "array([[81.8],\n",
       "       [81.4],\n",
       "       [82.9],\n",
       "       [90. ],\n",
       "       [84.8],\n",
       "       [84.4],\n",
       "       [78.6],\n",
       "       [92.6]])"
      ]
     },
     "execution_count": 24,
     "metadata": {},
     "output_type": "execute_result"
    }
   ],
   "source": [
    "np.matmul(a, b)"
   ]
  },
  {
   "cell_type": "code",
   "execution_count": 25,
   "id": "a31fe09c",
   "metadata": {
    "ExecuteTime": {
     "end_time": "2023-09-12T12:41:18.749380Z",
     "start_time": "2023-09-12T12:41:18.731166Z"
    }
   },
   "outputs": [],
   "source": [
    "c = 10"
   ]
  },
  {
   "cell_type": "code",
   "execution_count": 26,
   "id": "9f27e7c0",
   "metadata": {
    "ExecuteTime": {
     "end_time": "2023-09-12T12:41:29.248374Z",
     "start_time": "2023-09-12T12:41:29.244722Z"
    }
   },
   "outputs": [
    {
     "data": {
      "text/plain": [
       "array([[800, 860],\n",
       "       [820, 800],\n",
       "       [850, 780],\n",
       "       [900, 900],\n",
       "       [860, 820],\n",
       "       [820, 900],\n",
       "       [780, 800],\n",
       "       [920, 940]])"
      ]
     },
     "execution_count": 26,
     "metadata": {},
     "output_type": "execute_result"
    }
   ],
   "source": [
    "np.dot(c, a)"
   ]
  },
  {
   "cell_type": "code",
   "execution_count": 28,
   "id": "2df4eaa1",
   "metadata": {
    "ExecuteTime": {
     "end_time": "2023-09-12T12:41:59.567604Z",
     "start_time": "2023-09-12T12:41:59.559256Z"
    }
   },
   "outputs": [],
   "source": [
    "# np.matmul(c, a) # matmul不支持矩阵和标量的乘法"
   ]
  }
 ],
 "metadata": {
  "kernelspec": {
   "display_name": "Python 3 (ipykernel)",
   "language": "python",
   "name": "python3"
  },
  "language_info": {
   "codemirror_mode": {
    "name": "ipython",
    "version": 3
   },
   "file_extension": ".py",
   "mimetype": "text/x-python",
   "name": "python",
   "nbconvert_exporter": "python",
   "pygments_lexer": "ipython3",
   "version": "3.11.4"
  },
  "toc": {
   "base_numbering": 1,
   "nav_menu": {},
   "number_sections": true,
   "sideBar": true,
   "skip_h1_title": false,
   "title_cell": "Table of Contents",
   "title_sidebar": "Contents",
   "toc_cell": false,
   "toc_position": {},
   "toc_section_display": true,
   "toc_window_display": false
  }
 },
 "nbformat": 4,
 "nbformat_minor": 5
}
