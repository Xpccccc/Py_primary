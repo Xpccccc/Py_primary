{
 "cells": [
  {
   "cell_type": "markdown",
   "id": "be93acad",
   "metadata": {},
   "source": [
    "# 初识numpy"
   ]
  },
  {
   "cell_type": "code",
   "execution_count": 2,
   "id": "7f3aa188",
   "metadata": {
    "ExecuteTime": {
     "end_time": "2023-09-10T06:57:59.920390Z",
     "start_time": "2023-09-10T06:57:59.910902Z"
    }
   },
   "outputs": [],
   "source": [
    "import numpy as np"
   ]
  },
  {
   "cell_type": "code",
   "execution_count": 7,
   "id": "18f0f35a",
   "metadata": {
    "ExecuteTime": {
     "end_time": "2023-09-10T07:02:01.593281Z",
     "start_time": "2023-09-10T07:02:01.568645Z"
    }
   },
   "outputs": [],
   "source": [
    "score = np.array(\n",
    "[[80, 89, 86, 67, 79],\n",
    "[78, 97, 89, 67, 81],\n",
    "[90, 94, 78, 67, 74],\n",
    "[91, 91, 90, 67, 69],\n",
    "[76, 87, 75, 67, 86],\n",
    "[70, 79, 84, 67, 84],\n",
    "[94, 92, 93, 67, 64],\n",
    "[86, 85, 83, 67, 80]]\n",
    ")"
   ]
  },
  {
   "cell_type": "code",
   "execution_count": 8,
   "id": "09aad51a",
   "metadata": {
    "ExecuteTime": {
     "end_time": "2023-09-10T07:02:04.201211Z",
     "start_time": "2023-09-10T07:02:04.185838Z"
    }
   },
   "outputs": [
    {
     "data": {
      "text/plain": [
       "array([[80, 89, 86, 67, 79],\n",
       "       [78, 97, 89, 67, 81],\n",
       "       [90, 94, 78, 67, 74],\n",
       "       [91, 91, 90, 67, 69],\n",
       "       [76, 87, 75, 67, 86],\n",
       "       [70, 79, 84, 67, 84],\n",
       "       [94, 92, 93, 67, 64],\n",
       "       [86, 85, 83, 67, 80]])"
      ]
     },
     "execution_count": 8,
     "metadata": {},
     "output_type": "execute_result"
    }
   ],
   "source": [
    "score"
   ]
  },
  {
   "cell_type": "markdown",
   "id": "18965279",
   "metadata": {},
   "source": [
    "## ndarray和原生Python效率对比"
   ]
  },
  {
   "cell_type": "code",
   "execution_count": 9,
   "id": "b96e137b",
   "metadata": {
    "ExecuteTime": {
     "end_time": "2023-09-10T07:04:49.297297Z",
     "start_time": "2023-09-10T07:04:36.905597Z"
    }
   },
   "outputs": [
    {
     "name": "stdout",
     "output_type": "stream",
     "text": [
      "CPU times: user 321 ms, sys: 885 ms, total: 1.21 s\n",
      "Wall time: 1.69 s\n",
      "CPU times: user 31.3 ms, sys: 132 ms, total: 163 ms\n",
      "Wall time: 168 ms\n"
     ]
    }
   ],
   "source": [
    "import random\n",
    "import time\n",
    "import numpy as np\n",
    "a = []\n",
    "for i in range(100000000):\n",
    "    a.append(random.random())\n",
    "\n",
    "# 通过%time魔法方法, 查看当前行的代码运行一次所花费的时间\n",
    "%time sum1=sum(a)\n",
    "\n",
    "b=np.array(a)\n",
    "\n",
    "%time sum2=np.sum(b)"
   ]
  },
  {
   "cell_type": "markdown",
   "id": "fb4ebe41",
   "metadata": {},
   "source": [
    "#  ndarray的使用"
   ]
  },
  {
   "cell_type": "markdown",
   "id": "58f0f40a",
   "metadata": {},
   "source": [
    "## 数组的属性"
   ]
  },
  {
   "cell_type": "code",
   "execution_count": 10,
   "id": "c6113663",
   "metadata": {
    "ExecuteTime": {
     "end_time": "2023-09-10T07:06:53.345370Z",
     "start_time": "2023-09-10T07:06:53.324385Z"
    }
   },
   "outputs": [
    {
     "data": {
      "text/plain": [
       "array([[80, 89, 86, 67, 79],\n",
       "       [78, 97, 89, 67, 81],\n",
       "       [90, 94, 78, 67, 74],\n",
       "       [91, 91, 90, 67, 69],\n",
       "       [76, 87, 75, 67, 86],\n",
       "       [70, 79, 84, 67, 84],\n",
       "       [94, 92, 93, 67, 64],\n",
       "       [86, 85, 83, 67, 80]])"
      ]
     },
     "execution_count": 10,
     "metadata": {},
     "output_type": "execute_result"
    }
   ],
   "source": [
    "score"
   ]
  },
  {
   "cell_type": "code",
   "execution_count": 11,
   "id": "9959e1eb",
   "metadata": {
    "ExecuteTime": {
     "end_time": "2023-09-10T07:07:04.677717Z",
     "start_time": "2023-09-10T07:07:04.671013Z"
    }
   },
   "outputs": [
    {
     "data": {
      "text/plain": [
       "(8, 5)"
      ]
     },
     "execution_count": 11,
     "metadata": {},
     "output_type": "execute_result"
    }
   ],
   "source": [
    "score.shape"
   ]
  },
  {
   "cell_type": "code",
   "execution_count": 13,
   "id": "1760e89a",
   "metadata": {
    "ExecuteTime": {
     "end_time": "2023-09-10T07:07:26.540837Z",
     "start_time": "2023-09-10T07:07:26.526433Z"
    }
   },
   "outputs": [
    {
     "data": {
      "text/plain": [
       "2"
      ]
     },
     "execution_count": 13,
     "metadata": {},
     "output_type": "execute_result"
    }
   ],
   "source": [
    "score.ndim"
   ]
  },
  {
   "cell_type": "code",
   "execution_count": 17,
   "id": "ebccb167",
   "metadata": {
    "ExecuteTime": {
     "end_time": "2023-09-10T07:08:33.201437Z",
     "start_time": "2023-09-10T07:08:33.193899Z"
    }
   },
   "outputs": [
    {
     "data": {
      "text/plain": [
       "6"
      ]
     },
     "execution_count": 17,
     "metadata": {},
     "output_type": "execute_result"
    }
   ],
   "source": [
    "score.argmax()"
   ]
  },
  {
   "cell_type": "code",
   "execution_count": 18,
   "id": "a7edf786",
   "metadata": {
    "ExecuteTime": {
     "end_time": "2023-09-10T07:08:47.168959Z",
     "start_time": "2023-09-10T07:08:47.157346Z"
    }
   },
   "outputs": [
    {
     "data": {
      "text/plain": [
       "8"
      ]
     },
     "execution_count": 18,
     "metadata": {},
     "output_type": "execute_result"
    }
   ],
   "source": [
    "score.itemsize # 每个元素大小 - 8字节"
   ]
  },
  {
   "cell_type": "code",
   "execution_count": 19,
   "id": "237d5178",
   "metadata": {
    "ExecuteTime": {
     "end_time": "2023-09-10T07:09:20.841915Z",
     "start_time": "2023-09-10T07:09:20.815711Z"
    }
   },
   "outputs": [
    {
     "data": {
      "text/plain": [
       "dtype('int64')"
      ]
     },
     "execution_count": 19,
     "metadata": {},
     "output_type": "execute_result"
    }
   ],
   "source": [
    "score.dtype # 默认64位int 即 8字节"
   ]
  },
  {
   "cell_type": "markdown",
   "id": "137ff056",
   "metadata": {},
   "source": [
    "## 数组的形状"
   ]
  },
  {
   "cell_type": "code",
   "execution_count": 20,
   "id": "6a3a645b",
   "metadata": {
    "ExecuteTime": {
     "end_time": "2023-09-10T07:12:43.742687Z",
     "start_time": "2023-09-10T07:12:43.714440Z"
    }
   },
   "outputs": [],
   "source": [
    "a = np.array([1,2,3])"
   ]
  },
  {
   "cell_type": "code",
   "execution_count": 21,
   "id": "9efd1149",
   "metadata": {
    "ExecuteTime": {
     "end_time": "2023-09-10T07:12:47.478247Z",
     "start_time": "2023-09-10T07:12:47.466858Z"
    }
   },
   "outputs": [
    {
     "data": {
      "text/plain": [
       "array([1, 2, 3])"
      ]
     },
     "execution_count": 21,
     "metadata": {},
     "output_type": "execute_result"
    }
   ],
   "source": [
    "a"
   ]
  },
  {
   "cell_type": "code",
   "execution_count": 22,
   "id": "88047d5f",
   "metadata": {
    "ExecuteTime": {
     "end_time": "2023-09-10T07:13:02.514943Z",
     "start_time": "2023-09-10T07:13:02.512604Z"
    }
   },
   "outputs": [
    {
     "data": {
      "text/plain": [
       "(3,)"
      ]
     },
     "execution_count": 22,
     "metadata": {},
     "output_type": "execute_result"
    }
   ],
   "source": [
    "a.shape"
   ]
  },
  {
   "cell_type": "code",
   "execution_count": 24,
   "id": "f4e0cb6f",
   "metadata": {
    "ExecuteTime": {
     "end_time": "2023-09-10T07:13:27.054704Z",
     "start_time": "2023-09-10T07:13:27.049575Z"
    }
   },
   "outputs": [],
   "source": [
    "b = np.array([[1, 2, 3], [4, 5, 6]])"
   ]
  },
  {
   "cell_type": "code",
   "execution_count": 25,
   "id": "a10587a5",
   "metadata": {
    "ExecuteTime": {
     "end_time": "2023-09-10T07:13:31.348246Z",
     "start_time": "2023-09-10T07:13:31.336758Z"
    }
   },
   "outputs": [
    {
     "data": {
      "text/plain": [
       "array([[1, 2, 3],\n",
       "       [4, 5, 6]])"
      ]
     },
     "execution_count": 25,
     "metadata": {},
     "output_type": "execute_result"
    }
   ],
   "source": [
    "b"
   ]
  },
  {
   "cell_type": "code",
   "execution_count": 26,
   "id": "a47d3a6f",
   "metadata": {
    "ExecuteTime": {
     "end_time": "2023-09-10T07:13:43.833434Z",
     "start_time": "2023-09-10T07:13:43.818644Z"
    }
   },
   "outputs": [
    {
     "data": {
      "text/plain": [
       "(2, 3)"
      ]
     },
     "execution_count": 26,
     "metadata": {},
     "output_type": "execute_result"
    }
   ],
   "source": [
    "b.shape"
   ]
  },
  {
   "cell_type": "code",
   "execution_count": 27,
   "id": "3c67cc35",
   "metadata": {
    "ExecuteTime": {
     "end_time": "2023-09-10T07:13:57.436964Z",
     "start_time": "2023-09-10T07:13:57.430612Z"
    }
   },
   "outputs": [],
   "source": [
    "c = np.array([[[1, 2, 3], [4, 5, 6]], [[1, 2, 3], [4, 5, 6]]])"
   ]
  },
  {
   "cell_type": "code",
   "execution_count": 28,
   "id": "8802e386",
   "metadata": {
    "ExecuteTime": {
     "end_time": "2023-09-10T07:13:59.437636Z",
     "start_time": "2023-09-10T07:13:59.431319Z"
    }
   },
   "outputs": [
    {
     "data": {
      "text/plain": [
       "array([[[1, 2, 3],\n",
       "        [4, 5, 6]],\n",
       "\n",
       "       [[1, 2, 3],\n",
       "        [4, 5, 6]]])"
      ]
     },
     "execution_count": 28,
     "metadata": {},
     "output_type": "execute_result"
    }
   ],
   "source": [
    "c"
   ]
  },
  {
   "cell_type": "code",
   "execution_count": 29,
   "id": "796fbb22",
   "metadata": {
    "ExecuteTime": {
     "end_time": "2023-09-10T07:14:09.406972Z",
     "start_time": "2023-09-10T07:14:09.398261Z"
    }
   },
   "outputs": [
    {
     "data": {
      "text/plain": [
       "(2, 2, 3)"
      ]
     },
     "execution_count": 29,
     "metadata": {},
     "output_type": "execute_result"
    }
   ],
   "source": [
    "c.shape"
   ]
  },
  {
   "cell_type": "markdown",
   "id": "4430a7ee",
   "metadata": {},
   "source": [
    "## 数组的类型"
   ]
  },
  {
   "cell_type": "code",
   "execution_count": 30,
   "id": "d8f05e05",
   "metadata": {
    "ExecuteTime": {
     "end_time": "2023-09-10T07:14:38.482225Z",
     "start_time": "2023-09-10T07:14:38.476021Z"
    }
   },
   "outputs": [],
   "source": [
    "b = np.array([[1, 2, 3], [4, 5, 6]], dtype=np.float32)  # dtype 即设置的元素类型"
   ]
  },
  {
   "cell_type": "code",
   "execution_count": 31,
   "id": "56a62c29",
   "metadata": {
    "ExecuteTime": {
     "end_time": "2023-09-10T07:14:42.963239Z",
     "start_time": "2023-09-10T07:14:42.954413Z"
    }
   },
   "outputs": [
    {
     "data": {
      "text/plain": [
       "array([[1., 2., 3.],\n",
       "       [4., 5., 6.]], dtype=float32)"
      ]
     },
     "execution_count": 31,
     "metadata": {},
     "output_type": "execute_result"
    }
   ],
   "source": [
    "b"
   ]
  },
  {
   "cell_type": "code",
   "execution_count": 34,
   "id": "664a7419",
   "metadata": {
    "ExecuteTime": {
     "end_time": "2023-09-10T07:16:32.371166Z",
     "start_time": "2023-09-10T07:16:32.366987Z"
    }
   },
   "outputs": [],
   "source": [
    "arr = np.array([\"pythonIiiii\", \"hello\", \"I\"], dtype=np.string_) # dtype 即设置的元素类型 这里s7表示最长的字符串"
   ]
  },
  {
   "cell_type": "code",
   "execution_count": 35,
   "id": "323f7011",
   "metadata": {
    "ExecuteTime": {
     "end_time": "2023-09-10T07:16:36.032311Z",
     "start_time": "2023-09-10T07:16:36.022172Z"
    }
   },
   "outputs": [
    {
     "data": {
      "text/plain": [
       "array([b'pythonIiiii', b'hello', b'I'], dtype='|S11')"
      ]
     },
     "execution_count": 35,
     "metadata": {},
     "output_type": "execute_result"
    }
   ],
   "source": [
    "arr"
   ]
  },
  {
   "cell_type": "code",
   "execution_count": null,
   "id": "1090c434",
   "metadata": {},
   "outputs": [],
   "source": []
  }
 ],
 "metadata": {
  "kernelspec": {
   "display_name": "Python 3 (ipykernel)",
   "language": "python",
   "name": "python3"
  },
  "language_info": {
   "codemirror_mode": {
    "name": "ipython",
    "version": 3
   },
   "file_extension": ".py",
   "mimetype": "text/x-python",
   "name": "python",
   "nbconvert_exporter": "python",
   "pygments_lexer": "ipython3",
   "version": "3.11.4"
  },
  "toc": {
   "base_numbering": 1,
   "nav_menu": {},
   "number_sections": true,
   "sideBar": true,
   "skip_h1_title": false,
   "title_cell": "Table of Contents",
   "title_sidebar": "Contents",
   "toc_cell": false,
   "toc_position": {},
   "toc_section_display": true,
   "toc_window_display": false
  }
 },
 "nbformat": 4,
 "nbformat_minor": 5
}
